{
 "cells": [
  {
   "cell_type": "code",
   "execution_count": 2,
   "id": "7c67db05",
   "metadata": {},
   "outputs": [
    {
     "name": "stdout",
     "output_type": "stream",
     "text": [
      "Requirement already satisfied: nltk in c:\\users\\asus\\anaconda3\\lib\\site-packages (3.7)\n",
      "Requirement already satisfied: click in c:\\users\\asus\\anaconda3\\lib\\site-packages (from nltk) (8.0.4)\n",
      "Requirement already satisfied: regex>=2021.8.3 in c:\\users\\asus\\anaconda3\\lib\\site-packages (from nltk) (2022.3.15)\n",
      "Requirement already satisfied: joblib in c:\\users\\asus\\anaconda3\\lib\\site-packages (from nltk) (1.1.0)\n",
      "Requirement already satisfied: tqdm in c:\\users\\asus\\anaconda3\\lib\\site-packages (from nltk) (4.64.0)\n",
      "Requirement already satisfied: colorama in c:\\users\\asus\\anaconda3\\lib\\site-packages (from click->nltk) (0.4.4)\n",
      "Note: you may need to restart the kernel to use updated packages.\n"
     ]
    }
   ],
   "source": [
    "pip install nltk"
   ]
  },
  {
   "cell_type": "code",
   "execution_count": 5,
   "id": "513b0962",
   "metadata": {},
   "outputs": [
    {
     "name": "stdout",
     "output_type": "stream",
     "text": [
      "Requirement already satisfied: newspaper3k in c:\\users\\asus\\anaconda3\\lib\\site-packages (0.2.8)\n",
      "Requirement already satisfied: cssselect>=0.9.2 in c:\\users\\asus\\anaconda3\\lib\\site-packages (from newspaper3k) (1.2.0)\n",
      "Requirement already satisfied: python-dateutil>=2.5.3 in c:\\users\\asus\\anaconda3\\lib\\site-packages (from newspaper3k) (2.8.2)\n",
      "Requirement already satisfied: feedfinder2>=0.0.4 in c:\\users\\asus\\anaconda3\\lib\\site-packages (from newspaper3k) (0.0.4)\n",
      "Requirement already satisfied: tinysegmenter==0.3 in c:\\users\\asus\\anaconda3\\lib\\site-packages (from newspaper3k) (0.3)\n",
      "Requirement already satisfied: nltk>=3.2.1 in c:\\users\\asus\\anaconda3\\lib\\site-packages (from newspaper3k) (3.7)\n",
      "Requirement already satisfied: PyYAML>=3.11 in c:\\users\\asus\\anaconda3\\lib\\site-packages (from newspaper3k) (6.0)\n",
      "Requirement already satisfied: tldextract>=2.0.1 in c:\\users\\asus\\anaconda3\\lib\\site-packages (from newspaper3k) (3.2.0)\n",
      "Requirement already satisfied: jieba3k>=0.35.1 in c:\\users\\asus\\anaconda3\\lib\\site-packages (from newspaper3k) (0.35.1)\n",
      "Requirement already satisfied: feedparser>=5.2.1 in c:\\users\\asus\\anaconda3\\lib\\site-packages (from newspaper3k) (6.0.11)\n",
      "Requirement already satisfied: Pillow>=3.3.0 in c:\\users\\asus\\anaconda3\\lib\\site-packages (from newspaper3k) (9.0.1)\n",
      "Requirement already satisfied: beautifulsoup4>=4.4.1 in c:\\users\\asus\\anaconda3\\lib\\site-packages (from newspaper3k) (4.11.1)\n",
      "Requirement already satisfied: requests>=2.10.0 in c:\\users\\asus\\anaconda3\\lib\\site-packages (from newspaper3k) (2.27.1)\n",
      "Requirement already satisfied: lxml>=3.6.0 in c:\\users\\asus\\anaconda3\\lib\\site-packages (from newspaper3k) (4.8.0)\n",
      "Requirement already satisfied: soupsieve>1.2 in c:\\users\\asus\\anaconda3\\lib\\site-packages (from beautifulsoup4>=4.4.1->newspaper3k) (2.3.1)\n",
      "Requirement already satisfied: six in c:\\users\\asus\\anaconda3\\lib\\site-packages (from feedfinder2>=0.0.4->newspaper3k) (1.16.0)\n",
      "Requirement already satisfied: sgmllib3k in c:\\users\\asus\\anaconda3\\lib\\site-packages (from feedparser>=5.2.1->newspaper3k) (1.0.0)\n",
      "Requirement already satisfied: regex>=2021.8.3 in c:\\users\\asus\\anaconda3\\lib\\site-packages (from nltk>=3.2.1->newspaper3k) (2022.3.15)\n",
      "Requirement already satisfied: click in c:\\users\\asus\\anaconda3\\lib\\site-packages (from nltk>=3.2.1->newspaper3k) (8.0.4)\n",
      "Requirement already satisfied: joblib in c:\\users\\asus\\anaconda3\\lib\\site-packages (from nltk>=3.2.1->newspaper3k) (1.1.0)\n",
      "Requirement already satisfied: tqdm in c:\\users\\asus\\anaconda3\\lib\\site-packages (from nltk>=3.2.1->newspaper3k) (4.64.0)\n",
      "Requirement already satisfied: idna<4,>=2.5 in c:\\users\\asus\\anaconda3\\lib\\site-packages (from requests>=2.10.0->newspaper3k) (3.3)\n",
      "Requirement already satisfied: certifi>=2017.4.17 in c:\\users\\asus\\anaconda3\\lib\\site-packages (from requests>=2.10.0->newspaper3k) (2024.2.2)\n",
      "Requirement already satisfied: urllib3<1.27,>=1.21.1 in c:\\users\\asus\\anaconda3\\lib\\site-packages (from requests>=2.10.0->newspaper3k) (1.26.9)\n",
      "Requirement already satisfied: charset-normalizer~=2.0.0 in c:\\users\\asus\\anaconda3\\lib\\site-packages (from requests>=2.10.0->newspaper3k) (2.0.4)\n",
      "Requirement already satisfied: requests-file>=1.4 in c:\\users\\asus\\anaconda3\\lib\\site-packages (from tldextract>=2.0.1->newspaper3k) (1.5.1)\n",
      "Requirement already satisfied: filelock>=3.0.8 in c:\\users\\asus\\anaconda3\\lib\\site-packages (from tldextract>=2.0.1->newspaper3k) (3.6.0)\n",
      "Requirement already satisfied: colorama in c:\\users\\asus\\anaconda3\\lib\\site-packages (from click->nltk>=3.2.1->newspaper3k) (0.4.4)\n",
      "Note: you may need to restart the kernel to use updated packages.\n"
     ]
    }
   ],
   "source": [
    "pip install newspaper3k"
   ]
  },
  {
   "cell_type": "code",
   "execution_count": 1,
   "id": "dac9c73d",
   "metadata": {},
   "outputs": [],
   "source": [
    "import nltk\n",
    "from newspaper import Article"
   ]
  },
  {
   "cell_type": "code",
   "execution_count": 2,
   "id": "f2bb5256",
   "metadata": {},
   "outputs": [],
   "source": [
    "url = \"https://edition.cnn.com/2024/02/26/politics/government-shutdown-deadline-congress/index.html\""
   ]
  },
  {
   "cell_type": "code",
   "execution_count": 3,
   "id": "9e50bf10",
   "metadata": {},
   "outputs": [],
   "source": [
    "article = Article(url)"
   ]
  },
  {
   "cell_type": "code",
   "execution_count": 6,
   "id": "99ffeb53",
   "metadata": {},
   "outputs": [
    {
     "name": "stderr",
     "output_type": "stream",
     "text": [
      "[nltk_data] Downloading package punkt to\n",
      "[nltk_data]     C:\\Users\\Asus\\AppData\\Roaming\\nltk_data...\n",
      "[nltk_data]   Package punkt is already up-to-date!\n"
     ]
    }
   ],
   "source": [
    "#Do some nlp\n",
    "article.download()\n",
    "\n",
    "nltk.download('punkt')\n",
    "article.parse()\n",
    "article.nlp()"
   ]
  },
  {
   "cell_type": "code",
   "execution_count": 7,
   "id": "d314e0e2",
   "metadata": {},
   "outputs": [
    {
     "data": {
      "text/plain": [
       "['Clare Foran', 'Lauren Fox', 'Ted']"
      ]
     },
     "execution_count": 7,
     "metadata": {},
     "output_type": "execute_result"
    }
   ],
   "source": [
    "#Get the authors of the article\n",
    "article.authors"
   ]
  },
  {
   "cell_type": "code",
   "execution_count": 8,
   "id": "1f9189c6",
   "metadata": {},
   "outputs": [
    {
     "data": {
      "text/plain": [
       "datetime.datetime(2024, 2, 26, 0, 0)"
      ]
     },
     "execution_count": 8,
     "metadata": {},
     "output_type": "execute_result"
    }
   ],
   "source": [
    "#Get the publish date of the article\n",
    "article.publish_date"
   ]
  },
  {
   "cell_type": "code",
   "execution_count": 9,
   "id": "0019ef92",
   "metadata": {},
   "outputs": [
    {
     "data": {
      "text/plain": [
       "'https://media.cnn.com/api/v1/images/stellar/prod/20240225-split-mike-johnson-chuck-schumer.jpg?c=16x9&q=w_800,c_fill'"
      ]
     },
     "execution_count": 9,
     "metadata": {},
     "output_type": "execute_result"
    }
   ],
   "source": [
    "#Get the top image of the article\n",
    "article.top_image"
   ]
  },
  {
   "cell_type": "code",
   "execution_count": 10,
   "id": "63c38a68",
   "metadata": {},
   "outputs": [
    {
     "name": "stdout",
     "output_type": "stream",
     "text": [
      "CNN —\n",
      "\n",
      "There is still no clear path to avert a partial government shutdown at the end of the week, with just four days until Congress runs into a key funding deadline.\n",
      "\n",
      "Lawmakers had hoped to release the text of a bipartisan spending deal Sunday evening, but the bill has yet to be unveiled. High-level disagreements over policy issues remain as House Speaker Mike Johnson, a Louisiana Republican, is under immense pressure from his right flank to fight for conservative wins.\n",
      "\n",
      "As the clock ticks down to the deadline, Senate Democrats expressed anger and frustration Monday at the growing risk of a shutdown as many criticized House Republicans over the impasse.\n",
      "\n",
      "“What is wrong with these people? This is the central thing Congress is supposed to do,” Sen. Elizabeth Warren of Massachusetts told CNN’s Manu Raju. “Right now, the Republicans can’t seem to get themselves organized just to sign off on the basic work they’re supposed to do. This is just ridiculous.”\n",
      "\n",
      "Sen. Jon Tester, a vulnerable Montana Democrat up for reelection this cycle, was livid in comments to CNN about a possible shutdown.\n",
      "\n",
      "“There better not be,” he told Raju. “We’re doing this every six months. This is bullsh*t. It’s just bullsh*t. And so we need to do what we were elected to do, fund the government, not shut it down.”\n",
      "\n",
      "Sen. Joe Manchin, a West Virginia Democrat, said, “I swear to God, it is sinful what is going on, and the games that are being played right now with the American people and all the people that are depending on services of the federal government, and we can’t even get our act together.”\n",
      "\n",
      "Senate Majority Leader Chuck Schumer, a Democrat from New York, warned of the risk of a shutdown in a “Dear Colleague” letter Sunday, and said that “intense discussions” are underway with Johnson and other key lawmakers.\n",
      "\n",
      "Schumer blamed chaos within the House Republican conference for the delay, writing, “While we had hoped to have legislation ready this weekend that would give ample time for members to review the text, it is clear now that House Republicans need more time to sort themselves out.”\n",
      "\n",
      "Johnson later Sunday took a swing at Schumer’s criticism of the House GOP, writing on social media, “Despite the counterproductive rhetoric in Leader Schumer’s letter, the House has worked nonstop, and is continuing to work in good faith, to reach agreement with the Senate on compromise government funding bills in advance of the deadlines.”\n",
      "\n",
      "Senate Minority Leader Mitch McConnell on Monday warned that a partial shutdown would be “harmful to the country,” and argued that it is “entirely avoidable” if the House and the Senate can work together.\n",
      "\n",
      "Separately, McConnell told reporters at the Capitol, “We’re not gonna allow the government to shut down.”\n",
      "\n",
      "Congress is confronting a pair of shutdown deadlines – on March 1 and March 8 – after lawmakers passed a short-term funding bill in January.\n",
      "\n",
      "President Joe Biden will convene the top four congressional leaders Tuesday as the White House ratchets up pressure on lawmakers to pass additional funding to Ukraine and ahead of the partial government shutdown deadline.\n",
      "\n",
      "Senators return to Washington, DC, on Monday evening, but the House won’t be back until Wednesday, leaving little time ahead of the fast-approaching Friday deadline.\n",
      "\n",
      "In the Senate, agreement would need to be reached with the consent of all 100 senators to swiftly move any legislation before the deadline to avert a partial shutdown.\n",
      "\n",
      "A key question looming over the week’s schedule is when the Senate will act on the articles of impeachment against Homeland Security Secretary Alejandro Mayorkas, who was impeached by House Republicans this month.\n",
      "\n",
      "It’s not yet clear when the articles will be sent from the House to the Senate. A source familiar with conversations told CNN the two chambers are discussing the timing, but no decision had been made yet.\n",
      "\n",
      "In the House, Johnson has little room to maneuver as he faces a historically narrow majority and an increasingly combative right flank. Tensions are set to rise even further over the government funding fight.\n",
      "\n",
      "Hardline conservatives have revolted over the chamber’s passage of earlier stopgap funding bills and over a topline deal the speaker struck with Schumer to set spending close to $1.66 trillion overall.\n",
      "\n",
      "In January, a group of hardliners staged a rebellion on the House floor, tanking a procedural vote to show opposition to the deal Johnson reached with Schumer.\n",
      "\n",
      "Johnson won the gavel after conservatives ousted former House Speaker Kevin McCarthy in a historic vote last year, raising the question of whether the Louisiana Republican may at some point face a similar threat against his speakership.\n",
      "\n",
      "Funding extends through March 1 for a series of government agencies, including the departments of Agriculture, Energy, Transportation, Veterans Affairs, and Housing and Urban Development, as well as the Food and Drug Administration and other priorities such as military construction.\n",
      "\n",
      "An additional set of government agencies and programs are funded through March 8, including the departments of Justice, Commerce, Defense, Homeland Security, State, Education, Interior, and Health and Human Services, as well as the Environmental Protection Agency and the legislative branch.\n",
      "\n",
      "The federal government has already begun taking steps to prepare for a potential shutdown. Every department and agency has its own set of plans and procedures.\n",
      "\n",
      "That guidance includes information on how many employees would get furloughed, which employees are essential and would work without pay, how long it would take to wind down operations in the hours before a shutdown, and which activities would come to a halt.\n",
      "\n",
      "This story has been updated with additional developments.\n",
      "\n",
      "CNN’s Manu Raju, Sam Fossum, Melanie Zanona, Haley Talbot, Betsy Klein, Tami Luhby and Priscilla Alvarez contributed to this report.\n"
     ]
    }
   ],
   "source": [
    "#Get the text of article\n",
    "print(article.text)"
   ]
  },
  {
   "cell_type": "code",
   "execution_count": 12,
   "id": "598ccf0b",
   "metadata": {},
   "outputs": [
    {
     "name": "stdout",
     "output_type": "stream",
     "text": [
      "CNN —There is still no clear path to avert a partial government shutdown at the end of the week, with just four days until Congress runs into a key funding deadline.\n",
      "Lawmakers had hoped to release the text of a bipartisan spending deal Sunday evening, but the bill has yet to be unveiled.\n",
      "As the clock ticks down to the deadline, Senate Democrats expressed anger and frustration Monday at the growing risk of a shutdown as many criticized House Republicans over the impasse.\n",
      "“Right now, the Republicans can’t seem to get themselves organized just to sign off on the basic work they’re supposed to do.\n",
      "In the Senate, agreement would need to be reached with the consent of all 100 senators to swiftly move any legislation before the deadline to avert a partial shutdown.\n"
     ]
    }
   ],
   "source": [
    "#Get the summary of article\n",
    "print(article.summary)"
   ]
  },
  {
   "cell_type": "code",
   "execution_count": null,
   "id": "d2234c89",
   "metadata": {},
   "outputs": [],
   "source": []
  }
 ],
 "metadata": {
  "kernelspec": {
   "display_name": "Python 3 (ipykernel)",
   "language": "python",
   "name": "python3"
  },
  "language_info": {
   "codemirror_mode": {
    "name": "ipython",
    "version": 3
   },
   "file_extension": ".py",
   "mimetype": "text/x-python",
   "name": "python",
   "nbconvert_exporter": "python",
   "pygments_lexer": "ipython3",
   "version": "3.9.12"
  }
 },
 "nbformat": 4,
 "nbformat_minor": 5
}
